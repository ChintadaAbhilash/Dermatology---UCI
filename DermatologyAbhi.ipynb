{
 "cells": [
  {
   "cell_type": "code",
   "execution_count": 32,
   "metadata": {},
   "outputs": [],
   "source": [
    "from Abhi import KNN\n",
    "import pandas as pd \n",
    "import numpy as np\n",
    "\n",
    "from future.utils import iteritems\n",
    "\n",
    "import seaborn as sns \n",
    "\n",
    "import matplotlib.pyplot as plt\n",
    "\n",
    "import operator"
   ]
  },
  {
   "cell_type": "code",
   "execution_count": 33,
   "metadata": {},
   "outputs": [],
   "source": [
    "col_names = ['erythema', 'scaling ', 'definite borders', 'itching ', 'koebner phenomenon', 'polygonal papules', \n",
    "             'ollicular papules', 'oral mucosal involvement', 'knee and elbow involvement', 'scalp involvement', \n",
    "             'family history', 'melanin incontinence', 'eosinophils in the infiltrate', 'PNL infiltrate', \n",
    "             'fibrosis of the papillary dermis', 'exocytosis', 'acanthosis', 'hyperkeratosis', 'parakeratosis', \n",
    "             'clubbing of the rete ridges', 'elongation of the rete ridges', 'thinning of the suprapapillary epidermis', \n",
    "             'spongiform pustule', 'munro microabcess', 'focal hypergranulosis', 'disappearance of the granular layer', \n",
    "             'vacuolisation and damage of basal layer', 'spongiosis', 'saw-tooth appearance of retes', \n",
    "             'follicular horn plug', 'perifollicular parakeratosis', 'inflammatory monoluclear inflitrate', \n",
    "             'band-like infiltrate', 'Age', 'Disease']"
   ]
  },
  {
   "cell_type": "markdown",
   "metadata": {},
   "source": [
    "Data Visualization and Data Analysis "
   ]
  },
  {
   "cell_type": "code",
   "execution_count": 34,
   "metadata": {},
   "outputs": [
    {
     "data": {
      "text/html": [
       "<div>\n",
       "<style scoped>\n",
       "    .dataframe tbody tr th:only-of-type {\n",
       "        vertical-align: middle;\n",
       "    }\n",
       "\n",
       "    .dataframe tbody tr th {\n",
       "        vertical-align: top;\n",
       "    }\n",
       "\n",
       "    .dataframe thead th {\n",
       "        text-align: right;\n",
       "    }\n",
       "</style>\n",
       "<table border=\"1\" class=\"dataframe\">\n",
       "  <thead>\n",
       "    <tr style=\"text-align: right;\">\n",
       "      <th></th>\n",
       "      <th>erythema</th>\n",
       "      <th>scaling</th>\n",
       "      <th>definite borders</th>\n",
       "      <th>itching</th>\n",
       "      <th>koebner phenomenon</th>\n",
       "      <th>polygonal papules</th>\n",
       "      <th>ollicular papules</th>\n",
       "      <th>oral mucosal involvement</th>\n",
       "      <th>knee and elbow involvement</th>\n",
       "      <th>scalp involvement</th>\n",
       "      <th>...</th>\n",
       "      <th>disappearance of the granular layer</th>\n",
       "      <th>vacuolisation and damage of basal layer</th>\n",
       "      <th>spongiosis</th>\n",
       "      <th>saw-tooth appearance of retes</th>\n",
       "      <th>follicular horn plug</th>\n",
       "      <th>perifollicular parakeratosis</th>\n",
       "      <th>inflammatory monoluclear inflitrate</th>\n",
       "      <th>band-like infiltrate</th>\n",
       "      <th>Age</th>\n",
       "      <th>Disease</th>\n",
       "    </tr>\n",
       "  </thead>\n",
       "  <tbody>\n",
       "    <tr>\n",
       "      <th>0</th>\n",
       "      <td>2</td>\n",
       "      <td>2</td>\n",
       "      <td>0</td>\n",
       "      <td>3</td>\n",
       "      <td>0</td>\n",
       "      <td>0</td>\n",
       "      <td>0</td>\n",
       "      <td>0</td>\n",
       "      <td>1</td>\n",
       "      <td>0</td>\n",
       "      <td>...</td>\n",
       "      <td>0</td>\n",
       "      <td>0</td>\n",
       "      <td>3</td>\n",
       "      <td>0</td>\n",
       "      <td>0</td>\n",
       "      <td>0</td>\n",
       "      <td>1</td>\n",
       "      <td>0</td>\n",
       "      <td>55</td>\n",
       "      <td>2</td>\n",
       "    </tr>\n",
       "    <tr>\n",
       "      <th>1</th>\n",
       "      <td>3</td>\n",
       "      <td>3</td>\n",
       "      <td>3</td>\n",
       "      <td>2</td>\n",
       "      <td>1</td>\n",
       "      <td>0</td>\n",
       "      <td>0</td>\n",
       "      <td>0</td>\n",
       "      <td>1</td>\n",
       "      <td>1</td>\n",
       "      <td>...</td>\n",
       "      <td>0</td>\n",
       "      <td>0</td>\n",
       "      <td>0</td>\n",
       "      <td>0</td>\n",
       "      <td>0</td>\n",
       "      <td>0</td>\n",
       "      <td>1</td>\n",
       "      <td>0</td>\n",
       "      <td>8</td>\n",
       "      <td>1</td>\n",
       "    </tr>\n",
       "    <tr>\n",
       "      <th>2</th>\n",
       "      <td>2</td>\n",
       "      <td>1</td>\n",
       "      <td>2</td>\n",
       "      <td>3</td>\n",
       "      <td>1</td>\n",
       "      <td>3</td>\n",
       "      <td>0</td>\n",
       "      <td>3</td>\n",
       "      <td>0</td>\n",
       "      <td>0</td>\n",
       "      <td>...</td>\n",
       "      <td>0</td>\n",
       "      <td>2</td>\n",
       "      <td>3</td>\n",
       "      <td>2</td>\n",
       "      <td>0</td>\n",
       "      <td>0</td>\n",
       "      <td>2</td>\n",
       "      <td>3</td>\n",
       "      <td>26</td>\n",
       "      <td>3</td>\n",
       "    </tr>\n",
       "    <tr>\n",
       "      <th>3</th>\n",
       "      <td>2</td>\n",
       "      <td>2</td>\n",
       "      <td>2</td>\n",
       "      <td>0</td>\n",
       "      <td>0</td>\n",
       "      <td>0</td>\n",
       "      <td>0</td>\n",
       "      <td>0</td>\n",
       "      <td>3</td>\n",
       "      <td>2</td>\n",
       "      <td>...</td>\n",
       "      <td>3</td>\n",
       "      <td>0</td>\n",
       "      <td>0</td>\n",
       "      <td>0</td>\n",
       "      <td>0</td>\n",
       "      <td>0</td>\n",
       "      <td>3</td>\n",
       "      <td>0</td>\n",
       "      <td>40</td>\n",
       "      <td>1</td>\n",
       "    </tr>\n",
       "    <tr>\n",
       "      <th>4</th>\n",
       "      <td>2</td>\n",
       "      <td>3</td>\n",
       "      <td>2</td>\n",
       "      <td>2</td>\n",
       "      <td>2</td>\n",
       "      <td>2</td>\n",
       "      <td>0</td>\n",
       "      <td>2</td>\n",
       "      <td>0</td>\n",
       "      <td>0</td>\n",
       "      <td>...</td>\n",
       "      <td>2</td>\n",
       "      <td>3</td>\n",
       "      <td>2</td>\n",
       "      <td>3</td>\n",
       "      <td>0</td>\n",
       "      <td>0</td>\n",
       "      <td>2</td>\n",
       "      <td>3</td>\n",
       "      <td>45</td>\n",
       "      <td>3</td>\n",
       "    </tr>\n",
       "  </tbody>\n",
       "</table>\n",
       "<p>5 rows × 35 columns</p>\n",
       "</div>"
      ],
      "text/plain": [
       "   erythema  scaling   definite borders  itching   koebner phenomenon  \\\n",
       "0         2         2                 0         3                   0   \n",
       "1         3         3                 3         2                   1   \n",
       "2         2         1                 2         3                   1   \n",
       "3         2         2                 2         0                   0   \n",
       "4         2         3                 2         2                   2   \n",
       "\n",
       "   polygonal papules  ollicular papules  oral mucosal involvement  \\\n",
       "0                  0                  0                         0   \n",
       "1                  0                  0                         0   \n",
       "2                  3                  0                         3   \n",
       "3                  0                  0                         0   \n",
       "4                  2                  0                         2   \n",
       "\n",
       "   knee and elbow involvement  scalp involvement  ...  \\\n",
       "0                           1                  0  ...   \n",
       "1                           1                  1  ...   \n",
       "2                           0                  0  ...   \n",
       "3                           3                  2  ...   \n",
       "4                           0                  0  ...   \n",
       "\n",
       "   disappearance of the granular layer  \\\n",
       "0                                    0   \n",
       "1                                    0   \n",
       "2                                    0   \n",
       "3                                    3   \n",
       "4                                    2   \n",
       "\n",
       "   vacuolisation and damage of basal layer  spongiosis  \\\n",
       "0                                        0           3   \n",
       "1                                        0           0   \n",
       "2                                        2           3   \n",
       "3                                        0           0   \n",
       "4                                        3           2   \n",
       "\n",
       "   saw-tooth appearance of retes  follicular horn plug  \\\n",
       "0                              0                     0   \n",
       "1                              0                     0   \n",
       "2                              2                     0   \n",
       "3                              0                     0   \n",
       "4                              3                     0   \n",
       "\n",
       "   perifollicular parakeratosis  inflammatory monoluclear inflitrate  \\\n",
       "0                             0                                    1   \n",
       "1                             0                                    1   \n",
       "2                             0                                    2   \n",
       "3                             0                                    3   \n",
       "4                             0                                    2   \n",
       "\n",
       "   band-like infiltrate  Age  Disease  \n",
       "0                     0   55        2  \n",
       "1                     0    8        1  \n",
       "2                     3   26        3  \n",
       "3                     0   40        1  \n",
       "4                     3   45        3  \n",
       "\n",
       "[5 rows x 35 columns]"
      ]
     },
     "execution_count": 34,
     "metadata": {},
     "output_type": "execute_result"
    }
   ],
   "source": [
    "Df = pd.read_csv('dermatology.data', sep = ',' , names=col_names)\n",
    "\n",
    "Df.head()"
   ]
  },
  {
   "cell_type": "code",
   "execution_count": 35,
   "metadata": {},
   "outputs": [
    {
     "name": "stdout",
     "output_type": "stream",
     "text": [
      "<class 'pandas.core.frame.DataFrame'>\n",
      "RangeIndex: 366 entries, 0 to 365\n",
      "Data columns (total 35 columns):\n",
      "erythema                                    366 non-null int64\n",
      "scaling                                     366 non-null int64\n",
      "definite borders                            366 non-null int64\n",
      "itching                                     366 non-null int64\n",
      "koebner phenomenon                          366 non-null int64\n",
      "polygonal papules                           366 non-null int64\n",
      "ollicular papules                           366 non-null int64\n",
      "oral mucosal involvement                    366 non-null int64\n",
      "knee and elbow involvement                  366 non-null int64\n",
      "scalp involvement                           366 non-null int64\n",
      "family history                              366 non-null int64\n",
      "melanin incontinence                        366 non-null int64\n",
      "eosinophils in the infiltrate               366 non-null int64\n",
      "PNL infiltrate                              366 non-null int64\n",
      "fibrosis of the papillary dermis            366 non-null int64\n",
      "exocytosis                                  366 non-null int64\n",
      "acanthosis                                  366 non-null int64\n",
      "hyperkeratosis                              366 non-null int64\n",
      "parakeratosis                               366 non-null int64\n",
      "clubbing of the rete ridges                 366 non-null int64\n",
      "elongation of the rete ridges               366 non-null int64\n",
      "thinning of the suprapapillary epidermis    366 non-null int64\n",
      "spongiform pustule                          366 non-null int64\n",
      "munro microabcess                           366 non-null int64\n",
      "focal hypergranulosis                       366 non-null int64\n",
      "disappearance of the granular layer         366 non-null int64\n",
      "vacuolisation and damage of basal layer     366 non-null int64\n",
      "spongiosis                                  366 non-null int64\n",
      "saw-tooth appearance of retes               366 non-null int64\n",
      "follicular horn plug                        366 non-null int64\n",
      "perifollicular parakeratosis                366 non-null int64\n",
      "inflammatory monoluclear inflitrate         366 non-null int64\n",
      "band-like infiltrate                        366 non-null int64\n",
      "Age                                         366 non-null object\n",
      "Disease                                     366 non-null int64\n",
      "dtypes: int64(34), object(1)\n",
      "memory usage: 100.2+ KB\n"
     ]
    }
   ],
   "source": [
    "Df.info()"
   ]
  },
  {
   "cell_type": "code",
   "execution_count": 36,
   "metadata": {},
   "outputs": [
    {
     "data": {
      "text/html": [
       "<div>\n",
       "<style scoped>\n",
       "    .dataframe tbody tr th:only-of-type {\n",
       "        vertical-align: middle;\n",
       "    }\n",
       "\n",
       "    .dataframe tbody tr th {\n",
       "        vertical-align: top;\n",
       "    }\n",
       "\n",
       "    .dataframe thead th {\n",
       "        text-align: right;\n",
       "    }\n",
       "</style>\n",
       "<table border=\"1\" class=\"dataframe\">\n",
       "  <thead>\n",
       "    <tr style=\"text-align: right;\">\n",
       "      <th></th>\n",
       "      <th>erythema</th>\n",
       "      <th>scaling</th>\n",
       "      <th>definite borders</th>\n",
       "      <th>itching</th>\n",
       "      <th>koebner phenomenon</th>\n",
       "      <th>polygonal papules</th>\n",
       "      <th>ollicular papules</th>\n",
       "      <th>oral mucosal involvement</th>\n",
       "      <th>knee and elbow involvement</th>\n",
       "      <th>scalp involvement</th>\n",
       "      <th>...</th>\n",
       "      <th>focal hypergranulosis</th>\n",
       "      <th>disappearance of the granular layer</th>\n",
       "      <th>vacuolisation and damage of basal layer</th>\n",
       "      <th>spongiosis</th>\n",
       "      <th>saw-tooth appearance of retes</th>\n",
       "      <th>follicular horn plug</th>\n",
       "      <th>perifollicular parakeratosis</th>\n",
       "      <th>inflammatory monoluclear inflitrate</th>\n",
       "      <th>band-like infiltrate</th>\n",
       "      <th>Disease</th>\n",
       "    </tr>\n",
       "  </thead>\n",
       "  <tbody>\n",
       "    <tr>\n",
       "      <th>count</th>\n",
       "      <td>366.000000</td>\n",
       "      <td>366.000000</td>\n",
       "      <td>366.000000</td>\n",
       "      <td>366.000000</td>\n",
       "      <td>366.000000</td>\n",
       "      <td>366.000000</td>\n",
       "      <td>366.000000</td>\n",
       "      <td>366.000000</td>\n",
       "      <td>366.000000</td>\n",
       "      <td>366.000000</td>\n",
       "      <td>...</td>\n",
       "      <td>366.000000</td>\n",
       "      <td>366.000000</td>\n",
       "      <td>366.000000</td>\n",
       "      <td>366.000000</td>\n",
       "      <td>366.000000</td>\n",
       "      <td>366.000000</td>\n",
       "      <td>366.000000</td>\n",
       "      <td>366.000000</td>\n",
       "      <td>366.000000</td>\n",
       "      <td>366.000000</td>\n",
       "    </tr>\n",
       "    <tr>\n",
       "      <th>mean</th>\n",
       "      <td>2.068306</td>\n",
       "      <td>1.795082</td>\n",
       "      <td>1.549180</td>\n",
       "      <td>1.366120</td>\n",
       "      <td>0.633880</td>\n",
       "      <td>0.448087</td>\n",
       "      <td>0.166667</td>\n",
       "      <td>0.377049</td>\n",
       "      <td>0.614754</td>\n",
       "      <td>0.519126</td>\n",
       "      <td>...</td>\n",
       "      <td>0.393443</td>\n",
       "      <td>0.464481</td>\n",
       "      <td>0.456284</td>\n",
       "      <td>0.953552</td>\n",
       "      <td>0.453552</td>\n",
       "      <td>0.103825</td>\n",
       "      <td>0.114754</td>\n",
       "      <td>1.866120</td>\n",
       "      <td>0.554645</td>\n",
       "      <td>2.803279</td>\n",
       "    </tr>\n",
       "    <tr>\n",
       "      <th>std</th>\n",
       "      <td>0.664753</td>\n",
       "      <td>0.701527</td>\n",
       "      <td>0.907525</td>\n",
       "      <td>1.138299</td>\n",
       "      <td>0.908016</td>\n",
       "      <td>0.957327</td>\n",
       "      <td>0.570588</td>\n",
       "      <td>0.834147</td>\n",
       "      <td>0.982979</td>\n",
       "      <td>0.905639</td>\n",
       "      <td>...</td>\n",
       "      <td>0.849406</td>\n",
       "      <td>0.864899</td>\n",
       "      <td>0.954873</td>\n",
       "      <td>1.130172</td>\n",
       "      <td>0.954744</td>\n",
       "      <td>0.450433</td>\n",
       "      <td>0.488723</td>\n",
       "      <td>0.726108</td>\n",
       "      <td>1.105908</td>\n",
       "      <td>1.597803</td>\n",
       "    </tr>\n",
       "    <tr>\n",
       "      <th>min</th>\n",
       "      <td>0.000000</td>\n",
       "      <td>0.000000</td>\n",
       "      <td>0.000000</td>\n",
       "      <td>0.000000</td>\n",
       "      <td>0.000000</td>\n",
       "      <td>0.000000</td>\n",
       "      <td>0.000000</td>\n",
       "      <td>0.000000</td>\n",
       "      <td>0.000000</td>\n",
       "      <td>0.000000</td>\n",
       "      <td>...</td>\n",
       "      <td>0.000000</td>\n",
       "      <td>0.000000</td>\n",
       "      <td>0.000000</td>\n",
       "      <td>0.000000</td>\n",
       "      <td>0.000000</td>\n",
       "      <td>0.000000</td>\n",
       "      <td>0.000000</td>\n",
       "      <td>0.000000</td>\n",
       "      <td>0.000000</td>\n",
       "      <td>1.000000</td>\n",
       "    </tr>\n",
       "    <tr>\n",
       "      <th>25%</th>\n",
       "      <td>2.000000</td>\n",
       "      <td>1.000000</td>\n",
       "      <td>1.000000</td>\n",
       "      <td>0.000000</td>\n",
       "      <td>0.000000</td>\n",
       "      <td>0.000000</td>\n",
       "      <td>0.000000</td>\n",
       "      <td>0.000000</td>\n",
       "      <td>0.000000</td>\n",
       "      <td>0.000000</td>\n",
       "      <td>...</td>\n",
       "      <td>0.000000</td>\n",
       "      <td>0.000000</td>\n",
       "      <td>0.000000</td>\n",
       "      <td>0.000000</td>\n",
       "      <td>0.000000</td>\n",
       "      <td>0.000000</td>\n",
       "      <td>0.000000</td>\n",
       "      <td>1.000000</td>\n",
       "      <td>0.000000</td>\n",
       "      <td>1.000000</td>\n",
       "    </tr>\n",
       "    <tr>\n",
       "      <th>50%</th>\n",
       "      <td>2.000000</td>\n",
       "      <td>2.000000</td>\n",
       "      <td>2.000000</td>\n",
       "      <td>1.000000</td>\n",
       "      <td>0.000000</td>\n",
       "      <td>0.000000</td>\n",
       "      <td>0.000000</td>\n",
       "      <td>0.000000</td>\n",
       "      <td>0.000000</td>\n",
       "      <td>0.000000</td>\n",
       "      <td>...</td>\n",
       "      <td>0.000000</td>\n",
       "      <td>0.000000</td>\n",
       "      <td>0.000000</td>\n",
       "      <td>0.000000</td>\n",
       "      <td>0.000000</td>\n",
       "      <td>0.000000</td>\n",
       "      <td>0.000000</td>\n",
       "      <td>2.000000</td>\n",
       "      <td>0.000000</td>\n",
       "      <td>3.000000</td>\n",
       "    </tr>\n",
       "    <tr>\n",
       "      <th>75%</th>\n",
       "      <td>2.000000</td>\n",
       "      <td>2.000000</td>\n",
       "      <td>2.000000</td>\n",
       "      <td>2.000000</td>\n",
       "      <td>1.000000</td>\n",
       "      <td>0.000000</td>\n",
       "      <td>0.000000</td>\n",
       "      <td>0.000000</td>\n",
       "      <td>1.000000</td>\n",
       "      <td>1.000000</td>\n",
       "      <td>...</td>\n",
       "      <td>0.000000</td>\n",
       "      <td>1.000000</td>\n",
       "      <td>0.000000</td>\n",
       "      <td>2.000000</td>\n",
       "      <td>0.000000</td>\n",
       "      <td>0.000000</td>\n",
       "      <td>0.000000</td>\n",
       "      <td>2.000000</td>\n",
       "      <td>0.000000</td>\n",
       "      <td>4.000000</td>\n",
       "    </tr>\n",
       "    <tr>\n",
       "      <th>max</th>\n",
       "      <td>3.000000</td>\n",
       "      <td>3.000000</td>\n",
       "      <td>3.000000</td>\n",
       "      <td>3.000000</td>\n",
       "      <td>3.000000</td>\n",
       "      <td>3.000000</td>\n",
       "      <td>3.000000</td>\n",
       "      <td>3.000000</td>\n",
       "      <td>3.000000</td>\n",
       "      <td>3.000000</td>\n",
       "      <td>...</td>\n",
       "      <td>3.000000</td>\n",
       "      <td>3.000000</td>\n",
       "      <td>3.000000</td>\n",
       "      <td>3.000000</td>\n",
       "      <td>3.000000</td>\n",
       "      <td>3.000000</td>\n",
       "      <td>3.000000</td>\n",
       "      <td>3.000000</td>\n",
       "      <td>3.000000</td>\n",
       "      <td>6.000000</td>\n",
       "    </tr>\n",
       "  </tbody>\n",
       "</table>\n",
       "<p>8 rows × 34 columns</p>\n",
       "</div>"
      ],
      "text/plain": [
       "         erythema    scaling   definite borders    itching   \\\n",
       "count  366.000000  366.000000        366.000000  366.000000   \n",
       "mean     2.068306    1.795082          1.549180    1.366120   \n",
       "std      0.664753    0.701527          0.907525    1.138299   \n",
       "min      0.000000    0.000000          0.000000    0.000000   \n",
       "25%      2.000000    1.000000          1.000000    0.000000   \n",
       "50%      2.000000    2.000000          2.000000    1.000000   \n",
       "75%      2.000000    2.000000          2.000000    2.000000   \n",
       "max      3.000000    3.000000          3.000000    3.000000   \n",
       "\n",
       "       koebner phenomenon  polygonal papules  ollicular papules  \\\n",
       "count          366.000000         366.000000         366.000000   \n",
       "mean             0.633880           0.448087           0.166667   \n",
       "std              0.908016           0.957327           0.570588   \n",
       "min              0.000000           0.000000           0.000000   \n",
       "25%              0.000000           0.000000           0.000000   \n",
       "50%              0.000000           0.000000           0.000000   \n",
       "75%              1.000000           0.000000           0.000000   \n",
       "max              3.000000           3.000000           3.000000   \n",
       "\n",
       "       oral mucosal involvement  knee and elbow involvement  \\\n",
       "count                366.000000                  366.000000   \n",
       "mean                   0.377049                    0.614754   \n",
       "std                    0.834147                    0.982979   \n",
       "min                    0.000000                    0.000000   \n",
       "25%                    0.000000                    0.000000   \n",
       "50%                    0.000000                    0.000000   \n",
       "75%                    0.000000                    1.000000   \n",
       "max                    3.000000                    3.000000   \n",
       "\n",
       "       scalp involvement  ...  focal hypergranulosis  \\\n",
       "count         366.000000  ...             366.000000   \n",
       "mean            0.519126  ...               0.393443   \n",
       "std             0.905639  ...               0.849406   \n",
       "min             0.000000  ...               0.000000   \n",
       "25%             0.000000  ...               0.000000   \n",
       "50%             0.000000  ...               0.000000   \n",
       "75%             1.000000  ...               0.000000   \n",
       "max             3.000000  ...               3.000000   \n",
       "\n",
       "       disappearance of the granular layer  \\\n",
       "count                           366.000000   \n",
       "mean                              0.464481   \n",
       "std                               0.864899   \n",
       "min                               0.000000   \n",
       "25%                               0.000000   \n",
       "50%                               0.000000   \n",
       "75%                               1.000000   \n",
       "max                               3.000000   \n",
       "\n",
       "       vacuolisation and damage of basal layer  spongiosis  \\\n",
       "count                               366.000000  366.000000   \n",
       "mean                                  0.456284    0.953552   \n",
       "std                                   0.954873    1.130172   \n",
       "min                                   0.000000    0.000000   \n",
       "25%                                   0.000000    0.000000   \n",
       "50%                                   0.000000    0.000000   \n",
       "75%                                   0.000000    2.000000   \n",
       "max                                   3.000000    3.000000   \n",
       "\n",
       "       saw-tooth appearance of retes  follicular horn plug  \\\n",
       "count                     366.000000            366.000000   \n",
       "mean                        0.453552              0.103825   \n",
       "std                         0.954744              0.450433   \n",
       "min                         0.000000              0.000000   \n",
       "25%                         0.000000              0.000000   \n",
       "50%                         0.000000              0.000000   \n",
       "75%                         0.000000              0.000000   \n",
       "max                         3.000000              3.000000   \n",
       "\n",
       "       perifollicular parakeratosis  inflammatory monoluclear inflitrate  \\\n",
       "count                    366.000000                           366.000000   \n",
       "mean                       0.114754                             1.866120   \n",
       "std                        0.488723                             0.726108   \n",
       "min                        0.000000                             0.000000   \n",
       "25%                        0.000000                             1.000000   \n",
       "50%                        0.000000                             2.000000   \n",
       "75%                        0.000000                             2.000000   \n",
       "max                        3.000000                             3.000000   \n",
       "\n",
       "       band-like infiltrate     Disease  \n",
       "count            366.000000  366.000000  \n",
       "mean               0.554645    2.803279  \n",
       "std                1.105908    1.597803  \n",
       "min                0.000000    1.000000  \n",
       "25%                0.000000    1.000000  \n",
       "50%                0.000000    3.000000  \n",
       "75%                0.000000    4.000000  \n",
       "max                3.000000    6.000000  \n",
       "\n",
       "[8 rows x 34 columns]"
      ]
     },
     "execution_count": 36,
     "metadata": {},
     "output_type": "execute_result"
    }
   ],
   "source": [
    "Df.describe()"
   ]
  },
  {
   "cell_type": "code",
   "execution_count": 37,
   "metadata": {},
   "outputs": [
    {
     "data": {
      "text/plain": [
       "erythema                                    False\n",
       "scaling                                     False\n",
       "definite borders                            False\n",
       "itching                                     False\n",
       "koebner phenomenon                          False\n",
       "polygonal papules                           False\n",
       "ollicular papules                           False\n",
       "oral mucosal involvement                    False\n",
       "knee and elbow involvement                  False\n",
       "scalp involvement                           False\n",
       "family history                              False\n",
       "melanin incontinence                        False\n",
       "eosinophils in the infiltrate               False\n",
       "PNL infiltrate                              False\n",
       "fibrosis of the papillary dermis            False\n",
       "exocytosis                                  False\n",
       "acanthosis                                  False\n",
       "hyperkeratosis                              False\n",
       "parakeratosis                               False\n",
       "clubbing of the rete ridges                 False\n",
       "elongation of the rete ridges               False\n",
       "thinning of the suprapapillary epidermis    False\n",
       "spongiform pustule                          False\n",
       "munro microabcess                           False\n",
       "focal hypergranulosis                       False\n",
       "disappearance of the granular layer         False\n",
       "vacuolisation and damage of basal layer     False\n",
       "spongiosis                                  False\n",
       "saw-tooth appearance of retes               False\n",
       "follicular horn plug                        False\n",
       "perifollicular parakeratosis                False\n",
       "inflammatory monoluclear inflitrate         False\n",
       "band-like infiltrate                        False\n",
       "Age                                         False\n",
       "Disease                                     False\n",
       "dtype: bool"
      ]
     },
     "execution_count": 37,
     "metadata": {},
     "output_type": "execute_result"
    }
   ],
   "source": [
    "Df.isna().any()"
   ]
  },
  {
   "cell_type": "code",
   "execution_count": 38,
   "metadata": {},
   "outputs": [
    {
     "data": {
      "text/plain": [
       "erythema                                    False\n",
       "scaling                                     False\n",
       "definite borders                            False\n",
       "itching                                     False\n",
       "koebner phenomenon                          False\n",
       "polygonal papules                           False\n",
       "ollicular papules                           False\n",
       "oral mucosal involvement                    False\n",
       "knee and elbow involvement                  False\n",
       "scalp involvement                           False\n",
       "family history                              False\n",
       "melanin incontinence                        False\n",
       "eosinophils in the infiltrate               False\n",
       "PNL infiltrate                              False\n",
       "fibrosis of the papillary dermis            False\n",
       "exocytosis                                  False\n",
       "acanthosis                                  False\n",
       "hyperkeratosis                              False\n",
       "parakeratosis                               False\n",
       "clubbing of the rete ridges                 False\n",
       "elongation of the rete ridges               False\n",
       "thinning of the suprapapillary epidermis    False\n",
       "spongiform pustule                          False\n",
       "munro microabcess                           False\n",
       "focal hypergranulosis                       False\n",
       "disappearance of the granular layer         False\n",
       "vacuolisation and damage of basal layer     False\n",
       "spongiosis                                  False\n",
       "saw-tooth appearance of retes               False\n",
       "follicular horn plug                        False\n",
       "perifollicular parakeratosis                False\n",
       "inflammatory monoluclear inflitrate         False\n",
       "band-like infiltrate                        False\n",
       "Age                                         False\n",
       "Disease                                     False\n",
       "dtype: bool"
      ]
     },
     "execution_count": 38,
     "metadata": {},
     "output_type": "execute_result"
    }
   ],
   "source": [
    "Df.isnull().any()"
   ]
  },
  {
   "cell_type": "code",
   "execution_count": 39,
   "metadata": {},
   "outputs": [],
   "source": [
    "Df['Age'].replace('?', '0', inplace=True)\n",
    "Df['Age']=Df['Age'].astype(int)\n",
    "Df['Age'].replace(0, Df['Age'].mean(), inplace=True)"
   ]
  },
  {
   "cell_type": "code",
   "execution_count": 40,
   "metadata": {},
   "outputs": [],
   "source": [
    "X = Df.iloc[:,:34].values.astype(np.float32)\n",
    "Y = Df.iloc[:,-1].values.astype(np.int32)"
   ]
  },
  {
   "cell_type": "code",
   "execution_count": 41,
   "metadata": {},
   "outputs": [
    {
     "name": "stdout",
     "output_type": "stream",
     "text": [
      "366\n"
     ]
    }
   ],
   "source": [
    "print(len(X))"
   ]
  },
  {
   "cell_type": "markdown",
   "metadata": {},
   "source": [
    "Splitting the Data into 75 , 25 Split"
   ]
  },
  {
   "cell_type": "code",
   "execution_count": 42,
   "metadata": {},
   "outputs": [],
   "source": [
    "from sklearn.utils import shuffle \n",
    "\n",
    "X , Y = shuffle(X , Y)\n",
    "\n",
    "Xtrain , Xtest = X[:275] , X[275:]\n",
    "Ytrain , Ytest = Y[:275] , Y[275:]"
   ]
  },
  {
   "cell_type": "code",
   "execution_count": 43,
   "metadata": {},
   "outputs": [
    {
     "name": "stdout",
     "output_type": "stream",
     "text": [
      " <===== Training Shapes ========> \n",
      "(275, 34) (275,)\n"
     ]
    }
   ],
   "source": [
    "print(\" <===== Training Shapes ========> \")\n",
    "\n",
    "print(Xtrain.shape , Ytrain.shape)"
   ]
  },
  {
   "cell_type": "code",
   "execution_count": 44,
   "metadata": {},
   "outputs": [
    {
     "name": "stdout",
     "output_type": "stream",
     "text": [
      " <===== Testing Shapes ========> \n",
      "(91, 34) (91,)\n"
     ]
    }
   ],
   "source": [
    "print(\" <===== Testing Shapes ========> \")\n",
    "\n",
    "print(Xtest.shape , Ytest.shape)"
   ]
  },
  {
   "cell_type": "markdown",
   "metadata": {},
   "source": [
    "Standardizing the Data "
   ]
  },
  {
   "cell_type": "code",
   "execution_count": 45,
   "metadata": {},
   "outputs": [],
   "source": [
    "def StandardScaler(Xtrain , Ytrain , Xtest , Ytest):\n",
    "    print(\" Transforming the way you need ! ;) \")\n",
    "    \n",
    "    mu = Xtrain.mean(axis=0)\n",
    "    std = Xtrain.std(axis=0)\n",
    "    \n",
    "    np.place(std, std == 0, 1)\n",
    "    \n",
    "    Xtrain = (Xtrain - mu) / std\n",
    "    Xtest = (Xtest - mu) / std\n",
    "    \n",
    "    return Xtrain, Xtest , Ytrain, Ytest"
   ]
  },
  {
   "cell_type": "code",
   "execution_count": 46,
   "metadata": {},
   "outputs": [
    {
     "name": "stdout",
     "output_type": "stream",
     "text": [
      " Transforming the way you need ! ;) \n"
     ]
    }
   ],
   "source": [
    "Xtrain , Xtest , Ytrain , Ytest = StandardScaler(Xtrain , Ytrain , Xtest , Ytest)"
   ]
  },
  {
   "cell_type": "markdown",
   "metadata": {},
   "source": [
    "Now the real time "
   ]
  },
  {
   "cell_type": "code",
   "execution_count": 47,
   "metadata": {},
   "outputs": [],
   "source": [
    "model = KNN(k = 6)"
   ]
  },
  {
   "cell_type": "code",
   "execution_count": 48,
   "metadata": {},
   "outputs": [],
   "source": [
    "model.fit(Xtrain , Ytrain)"
   ]
  },
  {
   "cell_type": "code",
   "execution_count": 49,
   "metadata": {},
   "outputs": [],
   "source": [
    "Ypred = model.predict(Xtest)"
   ]
  },
  {
   "cell_type": "code",
   "execution_count": 50,
   "metadata": {},
   "outputs": [
    {
     "name": "stdout",
     "output_type": "stream",
     "text": [
      "0.945054945054945\n"
     ]
    }
   ],
   "source": [
    "print(model.score(Xtest , Ytest))"
   ]
  },
  {
   "cell_type": "markdown",
   "metadata": {},
   "source": [
    "Dimension Reduction just to visualize "
   ]
  },
  {
   "cell_type": "code",
   "execution_count": 56,
   "metadata": {},
   "outputs": [],
   "source": [
    "from sklearn.decomposition import PCA \n",
    "\n",
    "pca = PCA(n_components = 2)\n",
    "\n",
    "X_test_vi = pca.fit_transform(Xtest)"
   ]
  },
  {
   "cell_type": "code",
   "execution_count": 57,
   "metadata": {},
   "outputs": [
    {
     "data": {
      "image/png": "[encoded data removed]",
      "text/plain": [
       "<Figure size 432x288 with 1 Axes>"
      ]
     },
     "metadata": {
      "needs_background": "light"
     },
     "output_type": "display_data"
    }
   ],
   "source": [
    "plt.scatter(X_test_vi[:,0] , X_test_vi[:,1] , c = Ytest)\n",
    "plt.show()"
   ]
  },
  {
   "cell_type": "code",
   "execution_count": 58,
   "metadata": {},
   "outputs": [
    {
     "data": {
      "image/png": "[encoded data removed]",
      "text/plain": [
       "<Figure size 432x288 with 1 Axes>"
      ]
     },
     "metadata": {
      "needs_background": "light"
     },
     "output_type": "display_data"
    }
   ],
   "source": [
    "plt.scatter(X_test_vi[:,0] , X_test_vi[:,1] , c = Ypred)\n",
    "plt.show()"
   ]
  },
  {
   "cell_type": "markdown",
   "metadata": {},
   "source": [
    "Finding out the best K "
   ]
  },
  {
   "cell_type": "code",
   "execution_count": 54,
   "metadata": {},
   "outputs": [
    {
     "name": "stdout",
     "output_type": "stream",
     "text": [
      " K :  1  Accuracy :  0.9560439560439561\n",
      " K :  2  Accuracy :  0.9560439560439561\n",
      " K :  3  Accuracy :  0.9560439560439561\n",
      " K :  4  Accuracy :  0.9560439560439561\n",
      " K :  5  Accuracy :  0.9560439560439561\n",
      " K :  6  Accuracy :  0.945054945054945\n",
      " K :  7  Accuracy :  0.945054945054945\n",
      " K :  8  Accuracy :  0.9560439560439561\n",
      " K :  9  Accuracy :  0.945054945054945\n",
      " K :  10  Accuracy :  0.945054945054945\n"
     ]
    }
   ],
   "source": [
    "K_dict = {}\n",
    "\n",
    "for i in range(1,11):\n",
    "    model = KNN(k = i)\n",
    "    model.fit(Xtrain,Ytrain)\n",
    "    K_dict[i] = model.score(Xtest , Ytest)\n",
    "    \n",
    "    print(\" K : \" , i , \" Accuracy : \" , K_dict[i])\n",
    "    \n",
    "best_K = max(K_dict.items(), key=operator.itemgetter(1))[0]"
   ]
  },
  {
   "cell_type": "code",
   "execution_count": 63,
   "metadata": {},
   "outputs": [
    {
     "data": {
      "image/png": "[encoded data removed]",
      "text/plain": [
       "<Figure size 432x288 with 1 Axes>"
      ]
     },
     "metadata": {
      "needs_background": "light"
     },
     "output_type": "display_data"
    }
   ],
   "source": [
    "x_axis = list(K_dict.keys())\n",
    "y_axis = list(K_dict.values())\n",
    "\n",
    "plt.plot(x_axis , y_axis)\n",
    "plt.show()"
   ]
  },
  {
   "cell_type": "code",
   "execution_count": 55,
   "metadata": {},
   "outputs": [
    {
     "name": "stdout",
     "output_type": "stream",
     "text": [
      "1\n"
     ]
    }
   ],
   "source": [
    "print(best_K)"
   ]
  },
  {
   "cell_type": "markdown",
   "metadata": {},
   "source": [
    "Confusion Matrix "
   ]
  },
  {
   "cell_type": "code",
   "execution_count": 59,
   "metadata": {},
   "outputs": [],
   "source": [
    "from sklearn.metrics import confusion_matrix\n",
    "\n",
    "cm = confusion_matrix(Ytest, Ypred)"
   ]
  },
  {
   "cell_type": "code",
   "execution_count": 60,
   "metadata": {},
   "outputs": [
    {
     "data": {
      "text/plain": [
       "<matplotlib.axes._subplots.AxesSubplot at 0x7fd13014d4a8>"
      ]
     },
     "execution_count": 60,
     "metadata": {},
     "output_type": "execute_result"
    },
    {
     "data": {
      "image/png": "[encoded data removed]",
      "text/plain": [
       "<Figure size 432x288 with 2 Axes>"
      ]
     },
     "metadata": {
      "needs_background": "light"
     },
     "output_type": "display_data"
    }
   ],
   "source": [
    "sns.heatmap(cm , annot=True)"
   ]
  }
 ],
 "metadata": {
  "kernelspec": {
   "display_name": "Python 3",
   "language": "python",
   "name": "python3"
  },
  "language_info": {
   "codemirror_mode": {
    "name": "ipython",
    "version": 3
   },
   "file_extension": ".py",
   "mimetype": "text/x-python",
   "name": "python",
   "nbconvert_exporter": "python",
   "pygments_lexer": "ipython3",
   "version": "3.6.8"
  }
 },
 "nbformat": 4,
 "nbformat_minor": 2
}
